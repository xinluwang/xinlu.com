{
 "cells": [
  {
   "cell_type": "markdown",
   "metadata": {},
   "source": [
    "# 1. Read files \n",
    "\n",
    "## 1.1 Multiple files\n",
    "\n",
    "read multiple pdf files to analysis "
   ]
  },
  {
   "cell_type": "code",
   "execution_count": 5,
   "metadata": {
    "ExecuteTime": {
     "end_time": "2019-05-23T12:03:24.244519Z",
     "start_time": "2019-05-23T12:03:22.170459Z"
    },
    "inputHidden": false,
    "outputHidden": false
   },
   "outputs": [],
   "source": [
    "import pandas as pd\n",
    "from sklearn.feature_extraction.text import CountVectorizer\n",
    "from sklearn.feature_extraction.text import TfidfTransformer\n",
    "from sklearn.externals import joblib\n",
    "import pickle\n",
    "import os"
   ]
  },
  {
   "cell_type": "code",
   "execution_count": 6,
   "metadata": {
    "ExecuteTime": {
     "end_time": "2019-05-23T12:03:58.119423Z",
     "start_time": "2019-05-23T12:03:58.108422Z"
    },
    "inputHidden": false,
    "outputHidden": false
   },
   "outputs": [
    {
     "data": {
      "text/plain": [
       "'C:\\\\Users\\\\sean\\\\nuts\\\\TEXTasData\\\\00-Text-in-AF'"
      ]
     },
     "execution_count": 6,
     "metadata": {},
     "output_type": "execute_result"
    }
   ],
   "source": [
    "pwd"
   ]
  },
  {
   "cell_type": "code",
   "execution_count": 3,
   "metadata": {
    "ExecuteTime": {
     "end_time": "2019-05-23T12:05:51.936274Z",
     "start_time": "2019-05-23T12:05:51.585369Z"
    }
   },
   "outputs": [
    {
     "name": "stdout",
     "output_type": "stream",
     "text": [
      "00-presentation.Rmd       01-tidy-text-dic.ipynb    \u001b[34mlibs\u001b[m\u001b[m/\r\n",
      "00-presentation.html      02-doc-clustering.ipynb   \u001b[34mshare\u001b[m\u001b[m/\r\n",
      "00-read-file.ipynb        \u001b[34mcss\u001b[m\u001b[m/                      \u001b[31mtext-in-accounting.Rproj\u001b[m\u001b[m*\r\n",
      "00-tf-idf.ipynb           \u001b[34mdata\u001b[m\u001b[m/\r\n",
      "01-pandas-intro.ipynb     \u001b[34mfigs\u001b[m\u001b[m/\r\n"
     ]
    }
   ],
   "source": [
    "ls"
   ]
  },
  {
   "cell_type": "code",
   "execution_count": null,
   "metadata": {
    "ExecuteTime": {
     "end_time": "2019-05-23T12:08:06.644084Z",
     "start_time": "2019-05-23T12:08:06.641081Z"
    },
    "inputHidden": false,
    "outputHidden": false
   },
   "outputs": [],
   "source": [
    "# os.chdir('C:\\\\Users\\\\sean\\\\nuts\\\\TEXTasData')"
   ]
  },
  {
   "cell_type": "code",
   "execution_count": 4,
   "metadata": {
    "ExecuteTime": {
     "end_time": "2019-05-23T12:08:09.669723Z",
     "start_time": "2019-05-23T12:08:09.665736Z"
    },
    "inputHidden": false,
    "outputHidden": false
   },
   "outputs": [
    {
     "data": {
      "text/plain": [
       "'/Users/sean/nuts/TEXTasData/00-Text-in-AF'"
      ]
     },
     "execution_count": 4,
     "metadata": {},
     "output_type": "execute_result"
    }
   ],
   "source": [
    "pwd"
   ]
  },
  {
   "cell_type": "code",
   "execution_count": 6,
   "metadata": {
    "ExecuteTime": {
     "end_time": "2019-05-23T12:17:11.746077Z",
     "start_time": "2019-05-23T12:17:11.666942Z"
    },
    "inputHidden": false,
    "outputHidden": false
   },
   "outputs": [],
   "source": [
    "pdfpath = '/Users/sean/nuts/TEXTasData/'\n",
    "\n",
    "filestxt = [os.path.join(root, name)\n",
    "            for root, dirs, files in os.walk(pdfpath)\n",
    "            for name in files if name.lower().endswith(\".pdf\")]"
   ]
  },
  {
   "cell_type": "code",
   "execution_count": 7,
   "metadata": {
    "ExecuteTime": {
     "end_time": "2019-05-23T12:17:14.470783Z",
     "start_time": "2019-05-23T12:17:14.467793Z"
    },
    "inputHidden": false,
    "outputHidden": false
   },
   "outputs": [
    {
     "data": {
      "text/plain": [
       "['/Users/sean/nuts/TEXTasData/muller2016aa textdata.pdf',\n",
       " '/Users/sean/nuts/TEXTasData/richert2013aa textdata.pdf',\n",
       " '/Users/sean/nuts/TEXTasData/秒懂词向量Word2vec的本质.pdf',\n",
       " '/Users/sean/nuts/TEXTasData/Social Network.pdf',\n",
       " '/Users/sean/nuts/TEXTasData/Text-As-Data.pdf',\n",
       " '/Users/sean/nuts/TEXTasData/text_analysis_in_R.pdf',\n",
       " '/Users/sean/nuts/TEXTasData/wiki_zh_word2vec/word2vec.pdf',\n",
       " '/Users/sean/nuts/TEXTasData/IntroToTextAnalyticsWithR/IntroToTextAnalyticsWithR_Part5.pdf',\n",
       " '/Users/sean/nuts/TEXTasData/IntroToTextAnalyticsWithR/IntroToTextAnalyticsWithR_Part7.pdf',\n",
       " '/Users/sean/nuts/TEXTasData/IntroToTextAnalyticsWithR/IntroToTextAnalyticsWithR_Part6.pdf']"
      ]
     },
     "execution_count": 7,
     "metadata": {},
     "output_type": "execute_result"
    }
   ],
   "source": [
    "filestxt[:10]"
   ]
  },
  {
   "cell_type": "code",
   "execution_count": 8,
   "metadata": {
    "ExecuteTime": {
     "end_time": "2019-05-23T12:17:20.520805Z",
     "start_time": "2019-05-23T12:17:20.515788Z"
    },
    "inputHidden": false,
    "outputHidden": false
   },
   "outputs": [],
   "source": [
    "file = pd.DataFrame({\"filepath\": filestxt})"
   ]
  },
  {
   "cell_type": "code",
   "execution_count": 9,
   "metadata": {
    "ExecuteTime": {
     "end_time": "2019-05-23T12:17:24.221406Z",
     "start_time": "2019-05-23T12:17:24.214407Z"
    }
   },
   "outputs": [
    {
     "data": {
      "text/html": [
       "<div>\n",
       "<style scoped>\n",
       "    .dataframe tbody tr th:only-of-type {\n",
       "        vertical-align: middle;\n",
       "    }\n",
       "\n",
       "    .dataframe tbody tr th {\n",
       "        vertical-align: top;\n",
       "    }\n",
       "\n",
       "    .dataframe thead th {\n",
       "        text-align: right;\n",
       "    }\n",
       "</style>\n",
       "<table border=\"1\" class=\"dataframe\">\n",
       "  <thead>\n",
       "    <tr style=\"text-align: right;\">\n",
       "      <th></th>\n",
       "      <th>filepath</th>\n",
       "    </tr>\n",
       "  </thead>\n",
       "  <tbody>\n",
       "    <tr>\n",
       "      <th>0</th>\n",
       "      <td>/Users/sean/nuts/TEXTasData/muller2016aa textd...</td>\n",
       "    </tr>\n",
       "    <tr>\n",
       "      <th>1</th>\n",
       "      <td>/Users/sean/nuts/TEXTasData/richert2013aa text...</td>\n",
       "    </tr>\n",
       "    <tr>\n",
       "      <th>2</th>\n",
       "      <td>/Users/sean/nuts/TEXTasData/秒懂词向量Word2vec的本质.pdf</td>\n",
       "    </tr>\n",
       "    <tr>\n",
       "      <th>3</th>\n",
       "      <td>/Users/sean/nuts/TEXTasData/Social Network.pdf</td>\n",
       "    </tr>\n",
       "    <tr>\n",
       "      <th>4</th>\n",
       "      <td>/Users/sean/nuts/TEXTasData/Text-As-Data.pdf</td>\n",
       "    </tr>\n",
       "  </tbody>\n",
       "</table>\n",
       "</div>"
      ],
      "text/plain": [
       "                                            filepath\n",
       "0  /Users/sean/nuts/TEXTasData/muller2016aa textd...\n",
       "1  /Users/sean/nuts/TEXTasData/richert2013aa text...\n",
       "2   /Users/sean/nuts/TEXTasData/秒懂词向量Word2vec的本质.pdf\n",
       "3     /Users/sean/nuts/TEXTasData/Social Network.pdf\n",
       "4       /Users/sean/nuts/TEXTasData/Text-As-Data.pdf"
      ]
     },
     "execution_count": 9,
     "metadata": {},
     "output_type": "execute_result"
    }
   ],
   "source": [
    "file.head()"
   ]
  },
  {
   "cell_type": "code",
   "execution_count": 10,
   "metadata": {
    "ExecuteTime": {
     "end_time": "2019-05-23T12:17:28.859018Z",
     "start_time": "2019-05-23T12:17:28.846994Z"
    },
    "inputHidden": false,
    "outputHidden": false
   },
   "outputs": [
    {
     "data": {
      "text/html": [
       "<div>\n",
       "<style scoped>\n",
       "    .dataframe tbody tr th:only-of-type {\n",
       "        vertical-align: middle;\n",
       "    }\n",
       "\n",
       "    .dataframe tbody tr th {\n",
       "        vertical-align: top;\n",
       "    }\n",
       "\n",
       "    .dataframe thead th {\n",
       "        text-align: right;\n",
       "    }\n",
       "</style>\n",
       "<table border=\"1\" class=\"dataframe\">\n",
       "  <thead>\n",
       "    <tr style=\"text-align: right;\">\n",
       "      <th></th>\n",
       "      <th>filepath</th>\n",
       "      <th>pysize</th>\n",
       "    </tr>\n",
       "  </thead>\n",
       "  <tbody>\n",
       "    <tr>\n",
       "      <th>0</th>\n",
       "      <td>/Users/sean/nuts/TEXTasData/muller2016aa textd...</td>\n",
       "      <td>2508909</td>\n",
       "    </tr>\n",
       "    <tr>\n",
       "      <th>1</th>\n",
       "      <td>/Users/sean/nuts/TEXTasData/richert2013aa text...</td>\n",
       "      <td>2077699</td>\n",
       "    </tr>\n",
       "    <tr>\n",
       "      <th>2</th>\n",
       "      <td>/Users/sean/nuts/TEXTasData/秒懂词向量Word2vec的本质.pdf</td>\n",
       "      <td>1801250</td>\n",
       "    </tr>\n",
       "    <tr>\n",
       "      <th>3</th>\n",
       "      <td>/Users/sean/nuts/TEXTasData/Social Network.pdf</td>\n",
       "      <td>30896821</td>\n",
       "    </tr>\n",
       "    <tr>\n",
       "      <th>4</th>\n",
       "      <td>/Users/sean/nuts/TEXTasData/Text-As-Data.pdf</td>\n",
       "      <td>27626989</td>\n",
       "    </tr>\n",
       "  </tbody>\n",
       "</table>\n",
       "</div>"
      ],
      "text/plain": [
       "                                            filepath    pysize\n",
       "0  /Users/sean/nuts/TEXTasData/muller2016aa textd...   2508909\n",
       "1  /Users/sean/nuts/TEXTasData/richert2013aa text...   2077699\n",
       "2   /Users/sean/nuts/TEXTasData/秒懂词向量Word2vec的本质.pdf   1801250\n",
       "3     /Users/sean/nuts/TEXTasData/Social Network.pdf  30896821\n",
       "4       /Users/sean/nuts/TEXTasData/Text-As-Data.pdf  27626989"
      ]
     },
     "execution_count": 10,
     "metadata": {},
     "output_type": "execute_result"
    }
   ],
   "source": [
    "file[\"pysize\"] = file.filepath.apply(os.path.getsize)\n",
    "file.head()"
   ]
  },
  {
   "cell_type": "code",
   "execution_count": 11,
   "metadata": {
    "ExecuteTime": {
     "end_time": "2019-05-23T12:17:35.361540Z",
     "start_time": "2019-05-23T12:17:35.231540Z"
    },
    "inputHidden": false,
    "outputHidden": false
   },
   "outputs": [],
   "source": [
    "## count pdf pages\n",
    "from PyPDF2 import PdfFileReader\n",
    "def pagecount(x):\n",
    "    try:\n",
    "        return PdfFileReader(x).getNumPages()\n",
    "    except:\n",
    "        return 0"
   ]
  },
  {
   "cell_type": "code",
   "execution_count": 12,
   "metadata": {
    "inputHidden": false,
    "outputHidden": false
   },
   "outputs": [],
   "source": [
    "file[\"PDFpage\"] = file.filepath.apply(pagecount)"
   ]
  },
  {
   "cell_type": "code",
   "execution_count": null,
   "metadata": {
    "inputHidden": false,
    "outputHidden": false
   },
   "outputs": [],
   "source": [
    "def readpy(x):\n",
    "  with open(x) as f:\n",
    "    content = f.read()\n",
    "  return content"
   ]
  },
  {
   "cell_type": "code",
   "execution_count": null,
   "metadata": {
    "inputHidden": false,
    "outputHidden": false
   },
   "outputs": [],
   "source": [
    "file[\"content\"] = file.filepath.apply(readpy)\n",
    "file.head()"
   ]
  },
  {
   "cell_type": "code",
   "execution_count": 39,
   "metadata": {
    "inputHidden": false,
    "outputHidden": false
   },
   "outputs": [],
   "source": [
    "# Unicode is not supported \n",
    "# file.to_stata(\"data/filepath.dta\", version = 117) "
   ]
  },
  {
   "cell_type": "code",
   "execution_count": 40,
   "metadata": {
    "inputHidden": false,
    "outputHidden": false
   },
   "outputs": [],
   "source": [
    "file.to_excel(\"data/filepath.xlsx\")"
   ]
  },
  {
   "cell_type": "code",
   "execution_count": 41,
   "metadata": {
    "inputHidden": false,
    "outputHidden": false
   },
   "outputs": [],
   "source": [
    "file.to_pickle(\"data/filepath.pkl\")"
   ]
  },
  {
   "cell_type": "code",
   "execution_count": 43,
   "metadata": {
    "inputHidden": false,
    "outputHidden": false
   },
   "outputs": [
    {
     "data": {
      "text/html": [
       "<div>\n",
       "<style scoped>\n",
       "    .dataframe tbody tr th:only-of-type {\n",
       "        vertical-align: middle;\n",
       "    }\n",
       "\n",
       "    .dataframe tbody tr th {\n",
       "        vertical-align: top;\n",
       "    }\n",
       "\n",
       "    .dataframe thead th {\n",
       "        text-align: right;\n",
       "    }\n",
       "</style>\n",
       "<table border=\"1\" class=\"dataframe\">\n",
       "  <thead>\n",
       "    <tr style=\"text-align: right;\">\n",
       "      <th></th>\n",
       "      <th>filepath</th>\n",
       "      <th>pysize</th>\n",
       "      <th>PDFpage</th>\n",
       "    </tr>\n",
       "  </thead>\n",
       "  <tbody>\n",
       "    <tr>\n",
       "      <th>0</th>\n",
       "      <td>/Users/sean/nuts/TEXTasData/muller2016aa textd...</td>\n",
       "      <td>2508909</td>\n",
       "      <td>34</td>\n",
       "    </tr>\n",
       "    <tr>\n",
       "      <th>1</th>\n",
       "      <td>/Users/sean/nuts/TEXTasData/richert2013aa text...</td>\n",
       "      <td>2077699</td>\n",
       "      <td>106</td>\n",
       "    </tr>\n",
       "    <tr>\n",
       "      <th>2</th>\n",
       "      <td>/Users/sean/nuts/TEXTasData/秒懂词向量Word2vec的本质.pdf</td>\n",
       "      <td>1801250</td>\n",
       "      <td>16</td>\n",
       "    </tr>\n",
       "    <tr>\n",
       "      <th>3</th>\n",
       "      <td>/Users/sean/nuts/TEXTasData/Social Network.pdf</td>\n",
       "      <td>30896821</td>\n",
       "      <td>159</td>\n",
       "    </tr>\n",
       "    <tr>\n",
       "      <th>4</th>\n",
       "      <td>/Users/sean/nuts/TEXTasData/Text-As-Data.pdf</td>\n",
       "      <td>27626989</td>\n",
       "      <td>157</td>\n",
       "    </tr>\n",
       "  </tbody>\n",
       "</table>\n",
       "</div>"
      ],
      "text/plain": [
       "                                            filepath    pysize  PDFpage\n",
       "0  /Users/sean/nuts/TEXTasData/muller2016aa textd...   2508909       34\n",
       "1  /Users/sean/nuts/TEXTasData/richert2013aa text...   2077699      106\n",
       "2   /Users/sean/nuts/TEXTasData/秒懂词向量Word2vec的本质.pdf   1801250       16\n",
       "3     /Users/sean/nuts/TEXTasData/Social Network.pdf  30896821      159\n",
       "4       /Users/sean/nuts/TEXTasData/Text-As-Data.pdf  27626989      157"
      ]
     },
     "execution_count": 43,
     "metadata": {},
     "output_type": "execute_result"
    }
   ],
   "source": [
    "pd.read_pickle(\"data/filepath.pkl\").head()"
   ]
  },
  {
   "cell_type": "markdown",
   "metadata": {},
   "source": [
    "# one file"
   ]
  },
  {
   "cell_type": "code",
   "execution_count": 19,
   "metadata": {
    "inputHidden": false,
    "outputHidden": false
   },
   "outputs": [
    {
     "data": {
      "text/plain": [
       "'/Users/sean/nuts/TEXTasData/00-Text-in-AF'"
      ]
     },
     "execution_count": 19,
     "metadata": {},
     "output_type": "execute_result"
    }
   ],
   "source": [
    "pwd"
   ]
  },
  {
   "cell_type": "code",
   "execution_count": 4,
   "metadata": {
    "inputHidden": false,
    "outputHidden": false
   },
   "outputs": [],
   "source": [
    "mda = pd.read_excel(\"./share/data/cn_sample_mda.xlsx\")"
   ]
  },
  {
   "cell_type": "code",
   "execution_count": 5,
   "metadata": {
    "inputHidden": false,
    "outputHidden": true
   },
   "outputs": [
    {
     "name": "stdout",
     "output_type": "stream",
     "text": [
      "<class 'pandas.core.frame.DataFrame'>\n",
      "RangeIndex: 1360 entries, 0 to 1359\n",
      "Data columns (total 9 columns):\n",
      "scode        1360 non-null int64\n",
      "coname       1360 non-null object\n",
      "year         1360 non-null int64\n",
      "anatime      1360 non-null datetime64[ns]\n",
      "bus_da       1360 non-null object\n",
      "posvocnum    1360 non-null int64\n",
      "negvocnum    1360 non-null int64\n",
      "sentnum      1360 non-null int64\n",
      "charnum      1360 non-null int64\n",
      "dtypes: datetime64[ns](1), int64(6), object(2)\n",
      "memory usage: 95.7+ KB\n"
     ]
    }
   ],
   "source": [
    "mda.info()"
   ]
  },
  {
   "cell_type": "code",
   "execution_count": 6,
   "metadata": {
    "inputHidden": false,
    "outputHidden": true
   },
   "outputs": [
    {
     "data": {
      "text/html": [
       "<div>\n",
       "<style scoped>\n",
       "    .dataframe tbody tr th:only-of-type {\n",
       "        vertical-align: middle;\n",
       "    }\n",
       "\n",
       "    .dataframe tbody tr th {\n",
       "        vertical-align: top;\n",
       "    }\n",
       "\n",
       "    .dataframe thead th {\n",
       "        text-align: right;\n",
       "    }\n",
       "</style>\n",
       "<table border=\"1\" class=\"dataframe\">\n",
       "  <thead>\n",
       "    <tr style=\"text-align: right;\">\n",
       "      <th></th>\n",
       "      <th>scode</th>\n",
       "      <th>coname</th>\n",
       "      <th>year</th>\n",
       "      <th>anatime</th>\n",
       "      <th>bus_da</th>\n",
       "      <th>posvocnum</th>\n",
       "      <th>negvocnum</th>\n",
       "      <th>sentnum</th>\n",
       "      <th>charnum</th>\n",
       "    </tr>\n",
       "  </thead>\n",
       "  <tbody>\n",
       "    <tr>\n",
       "      <th>0</th>\n",
       "      <td>4</td>\n",
       "      <td>国农科技</td>\n",
       "      <td>2013</td>\n",
       "      <td>2013-12-31</td>\n",
       "      <td>第四节 董事会报告\\r\\n\\r\\n一、概述\\r\\n\\r\\n2013年是新一届政府的开局之年，...</td>\n",
       "      <td>183</td>\n",
       "      <td>134</td>\n",
       "      <td>64</td>\n",
       "      <td>4679</td>\n",
       "    </tr>\n",
       "    <tr>\n",
       "      <th>1</th>\n",
       "      <td>4</td>\n",
       "      <td>国农科技</td>\n",
       "      <td>2014</td>\n",
       "      <td>2014-12-31</td>\n",
       "      <td>第四节 董事会报告\\r\\n\\r\\n一、概述\\r\\n\\r\\n2014年，对医药行业来说，是机遇...</td>\n",
       "      <td>289</td>\n",
       "      <td>112</td>\n",
       "      <td>67</td>\n",
       "      <td>4964</td>\n",
       "    </tr>\n",
       "    <tr>\n",
       "      <th>2</th>\n",
       "      <td>4</td>\n",
       "      <td>国农科技</td>\n",
       "      <td>2015</td>\n",
       "      <td>2015-12-31</td>\n",
       "      <td>第四节 管理层讨论与分析\\r\\n\\r\\n一、概述\\r\\n\\r\\n2015年度公司实现主营业务...</td>\n",
       "      <td>153</td>\n",
       "      <td>77</td>\n",
       "      <td>34</td>\n",
       "      <td>2902</td>\n",
       "    </tr>\n",
       "    <tr>\n",
       "      <th>3</th>\n",
       "      <td>4</td>\n",
       "      <td>国农科技</td>\n",
       "      <td>2016</td>\n",
       "      <td>2016-12-31</td>\n",
       "      <td>第四节 经营情况讨论与分析\\r\\n\\r\\n一、概述\\r\\n\\r\\n2016年度公司实现主营业...</td>\n",
       "      <td>211</td>\n",
       "      <td>87</td>\n",
       "      <td>53</td>\n",
       "      <td>3555</td>\n",
       "    </tr>\n",
       "    <tr>\n",
       "      <th>4</th>\n",
       "      <td>4</td>\n",
       "      <td>国农科技</td>\n",
       "      <td>2017</td>\n",
       "      <td>2017-12-31</td>\n",
       "      <td>一、概述\\r\\n\\r\\n2017年度，公司实现主营业务收入13,860.58万元，比上年同期...</td>\n",
       "      <td>247</td>\n",
       "      <td>143</td>\n",
       "      <td>67</td>\n",
       "      <td>4444</td>\n",
       "    </tr>\n",
       "  </tbody>\n",
       "</table>\n",
       "</div>"
      ],
      "text/plain": [
       "   scode coname  year    anatime  \\\n",
       "0      4   国农科技  2013 2013-12-31   \n",
       "1      4   国农科技  2014 2014-12-31   \n",
       "2      4   国农科技  2015 2015-12-31   \n",
       "3      4   国农科技  2016 2016-12-31   \n",
       "4      4   国农科技  2017 2017-12-31   \n",
       "\n",
       "                                              bus_da  posvocnum  negvocnum  \\\n",
       "0  第四节 董事会报告\\r\\n\\r\\n一、概述\\r\\n\\r\\n2013年是新一届政府的开局之年，...        183        134   \n",
       "1  第四节 董事会报告\\r\\n\\r\\n一、概述\\r\\n\\r\\n2014年，对医药行业来说，是机遇...        289        112   \n",
       "2  第四节 管理层讨论与分析\\r\\n\\r\\n一、概述\\r\\n\\r\\n2015年度公司实现主营业务...        153         77   \n",
       "3  第四节 经营情况讨论与分析\\r\\n\\r\\n一、概述\\r\\n\\r\\n2016年度公司实现主营业...        211         87   \n",
       "4  一、概述\\r\\n\\r\\n2017年度，公司实现主营业务收入13,860.58万元，比上年同期...        247        143   \n",
       "\n",
       "   sentnum  charnum  \n",
       "0       64     4679  \n",
       "1       67     4964  \n",
       "2       34     2902  \n",
       "3       53     3555  \n",
       "4       67     4444  "
      ]
     },
     "execution_count": 6,
     "metadata": {},
     "output_type": "execute_result"
    }
   ],
   "source": [
    "mda.head()"
   ]
  },
  {
   "cell_type": "code",
   "execution_count": 7,
   "metadata": {
    "inputHidden": false,
    "outputHidden": true
   },
   "outputs": [
    {
     "data": {
      "text/plain": [
       "'第四节 管理层讨论与分析\\r\\n\\r\\n一、概述\\r\\n\\r\\n2015年度公司实现主营业务收入12,045万元，比上年同期增长49.43%；实现归属于上市公司股东的净利润125万元，扣 除非经常性损益后的净利润87万元。公司在经历了2007年、2008年两年亏损、2009年度扭亏（但扣除非经常损益仍然亏损）， 2010年、2011年及2012年度连续盈利，但盈利水平呈现下隆趋势，2013年出现小幅度亏损，2014年度扭亏为盈（扣除非经常 损益仍然亏损），公司基本面还是良好的，但主营业务方面还需要开拓及改善。\\r\\n1、生物制药业务：2012年在国家医药、医改政策持续调整影响下，公司自营、授权品种营业收入有小幅上升，全年营 业收入仍保持了增长。对于长期受困公司的产能不足限制，2012年度子公司山东华泰公司二楼车间改造通过了GMP认证，2012 及2013年已经投产运行，生产能力能满足需求，但2013年年底一楼车间GMP证书到期，无法再继续生产，2014年度平稳发展。 2015年制药业务全年共实现销售收入4,991万元，较上年下降了19.82%，全年净利润为-202万元。\\r\\n2、房地产业务：2015年，因控股子公司江苏国农置业房地产项目2.1、3.1期竣工验收实现对外销售，本年实现销售收 入6,844万元，实现净利润1,606万元，在房地产市场不景气的情况下，公司后续销售还将面临着较大的压力。\\r\\n3、物业管理业务规模总体偏小，对公司业绩贡献有限，报告期内公司处置了北京物业股权，进一步收缩了公司业务层 面。\\r\\n\\r\\n二、主营业务分析\\r\\n\\r\\n1、概述\\r\\n\\r\\n参见“管理层讨论与分析”中的“一、概述”相关内容。\\r\\n\\r\\n2、收入与成本\\r\\n\\r\\n（1）营业收入构成\\r\\n\\r\\n单位：元\\r\\n\\r\\n\\r\\n\\r\\n（2）占公司营业收入或营业利润 10%以上的行业、产品或地区情况\\r\\n\\r\\n□ 适用 √ 不适用\\r\\n\\r\\n（3）公司实物销售收入是否大于劳务收入\\r\\n\\r\\n√ 是 □ 否\\r\\n\\r\\n相关数据同比发生变动 30%以上的原因说明\\r\\n\\r\\n□ 适用 √ 不适用\\r\\n\\r\\n（4）公司已签订的重大销售合同截至本报告期的履行情况\\r\\n\\r\\n□ 适用 √ 不适用\\r\\n（5）营业成本构成\\r\\n\\r\\n行业和产品分类\\r\\n\\r\\n单位：元\\r\\n\\r\\n单位：元\\r\\n\\r\\n\\r\\n（6）报告期内合并范围是否发生变动\\r\\n\\r\\n√ 是 □ 否\\r\\n报告期内，公司控股子公司北京国农置业有限公司将其持有北京国农物业管理有限公司80%的股权进行了转让，交易完 成后，公司合并报表范围将发生变化，国农物业不再列入公司合并报表范围。\\r\\n\\r\\n（7）公司报告期内业务、产品或服务发生重大变化或调整有关情况\\r\\n\\r\\n□ 适用 √ 不适用\\r\\n\\r\\n（8）主要销售客户和主要供应商情况\\r\\n\\r\\n公司主要销售客户情况\\r\\n\\r\\n公司前 5 大客户资料\\r\\n\\r\\n主要客户其他情况说明\\r\\n\\r\\n□ 适用 √ 不适用 公司主要供应商情况\\r\\n\\r\\n公司前 5 名供应商资料\\r\\n\\r\\n主要供应商其他情况说明\\r\\n\\r\\n□ 适用 √ 不适用\\r\\n\\r\\n3、费用\\r\\n\\r\\n单位：元\\r\\n\\r\\n\\r\\n\\r\\n4、研发投入\\r\\n\\r\\n□ 适用 √ 不适用\\r\\n\\r\\n5、现金流\\r\\n\\r\\n单位：元\\r\\n\\r\\n相关数据同比发生重大变动的主要影响因素说明\\r\\n\\r\\n√ 适用 □ 不适用 经营活动产生的现金净流量本期较上年同期增长了267.36%，主要是：本期控股子公司江苏国农置业预售楼房大幅增加，\\r\\n回款增加，同比导致经营活动产生的现金净流量净额增加。\\r\\n\\r\\n投资活动产生的现金净流量本期较上年同期增长了78.01%，主要是：上年同期控股子公司山东北大高科华泰制药支付 了土地款，同比导致投资活动产生的现金净流量净额增加。\\r\\n筹资活动产生的现金净流量本期较上年同期增长了2327.0%，主要是：本期控股子公司山东北大高科华泰制药向金融机 构进行融资，同比导致筹资活动产生的现金净流量净额增加。\\r\\n\\r\\n报告期内公司经营活动产生的现金净流量与本年度净利润存在重大差异的原因说明\\r\\n\\r\\n□ 适用 √ 不适用\\r\\n\\r\\n三、非主营业务分析\\r\\n√ 适用 □ 不适用\\r\\n\\r\\n单位：元\\r\\n\\r\\n\\r\\n四、资产及负债状况\\r\\n\\r\\n1、资产构成重大变动情况\\r\\n\\r\\n单位：元\\r\\n\\r\\n\\r\\n2、以公允价值计量的资产和负债\\r\\n\\r\\n□ 适用 √ 不适用\\r\\n\\r\\n五、投资状况\\r\\n\\r\\n1、总体情况\\r\\n\\r\\n□ 适用 √ 不适用\\r\\n2、报告期内获取的重大的股权投资情况\\r\\n\\r\\n□ 适用 √ 不适用\\r\\n\\r\\n3、报告期内正在进行的重大的非股权投资情况\\r\\n\\r\\n□ 适用 √ 不适用\\r\\n\\r\\n4、金融资产投资\\r\\n\\r\\n（1）证券投资情况\\r\\n\\r\\n□ 适用 √ 不适用 公司报告期不存在证券投资。\\r\\n\\r\\n（2）衍生品投资情况\\r\\n\\r\\n□ 适用 √ 不适用 公司报告期不存在衍生品投资。\\r\\n\\r\\n5、募集资金使用情况\\r\\n\\r\\n□ 适用 √ 不适用 公司报告期无募集资金使用情况。\\r\\n\\r\\n六、重大资产和股权出售\\r\\n\\r\\n1、出售重大资产情况\\r\\n\\r\\n□ 适用 √ 不适用 公司报告期未出售重大资产。\\r\\n\\r\\n2、出售重大股权情况\\r\\n\\r\\n□ 适用 √ 不适用\\r\\n\\r\\n七、主要控股参股公司分析\\r\\n\\r\\n√ 适用 □ 不适用\\r\\n主要子公司及对公司净利润影响达 10%以上的参股公司情况\\r\\n\\r\\n单位：元\\r\\n\\r\\n\\r\\n报告期内取得和处置子公司的情况\\r\\n\\r\\n√ 适用 □ 不适用\\r\\n\\r\\n主要控股参股公司情况说明\\r\\n\\r\\n八、公司控制的结构化主体情况\\r\\n\\r\\n□ 适用 √ 不适用\\r\\n\\r\\n九、公司未来发展的展望\\r\\n\\r\\n（一）所处行业的发展趋势及面临的市场形势：\\r\\n\\r\\n随着国内经济的持续稳定发展、生活环境的变化、人们健康观念以及人口老龄化进程的加快，与人类生活质量密切相关 的生物医药行业，近年来一直保持了持续增长的趋势，未来我国人口老龄化加深和居民可支配收入的增长是推动我国医药行 业持续增长的重要动力。目前，我国用药水平还偏低，医药市场的不断扩大是必然趋势。未来医疗体制改革和行业结构调整 将是影响医药行业的主要政策面因素。随着国家近几年医疗体制改革的不断深入，加快了产业集中度的提高和管理升级，医 药市场日益规范，在新医改环境中，医药行业经营模式面临新的挑战，同时在改革带来的公平化、公开化的市场新风中，各 类医药制造企业在完成环保设施投入、优化生产流程、规范销售管理的助力下蓬勃发展，迅速占据市场优势地位。 总体来 看，2016年医药经济总体将保持稳步增长，医药行业依然属于高速发展的行业，市场的刚性需求以及国家对于产业规范、产 业提升的政策导向都将有利于行业的整合发展，但行业政策调整的不确定性和以降价为主基调的药品招标采购，也给行业发 展带来挑战。公司将密切关注产业发展政策以及行业政策的变化，适时优化调整以顺应市场需求及国家产业政策，努力挖掘 新的业绩增长点，不断提升公司运营效率和资金使用效率，实现公司健康、稳步和可持续发展。同时，公司在不影响医药业 务发展的前提下，逐步完成现有地产项目开发销售。\\r\\n\\r\\n（二）2016年的计划和措施：\\r\\n\\r\\n1、加强对公司生产资质及销售业务资源的系统化管理，一方面，统筹各环节生产资质及销售业务资源的衔接管理，避 免不必要的时间成本；另一方面，合理安排不同周期、进度的产品交替投产、上市，使公司始终保持产品更新换代的先发优 势，丰富公司产品线，降低产品单一化的风险。\\r\\n2、做好市场评估及产品调研，优化产品设计，加大投入研发能力和寻求新的合作项目。\\r\\n3、公司将积极建立长短期相结合的员工激励体系，留下优秀人才，并吸引优秀人才加入，建立与总部职能规划相适应 的管理团队，以及符合综合医药制剂制造平台要求的医药业务管理团队。\\r\\n\\r\\n（三）公司可能面临的风险因素及应对措施：\\r\\n\\r\\n1、医药行业的环保投入、研发投入、产品线扩充、设备更新需要持续、大量的资金投入，资金短缺是公司目前实施上 述业务发展规划面临的最大困难，加上行业政策调整的不确定性和以降价为主基调的药品招标采购，也给行业发展带来挑战。 公司将密切关注产业发展政策以及行业政策的变化，适时优化调整以顺应市场需求及国家产业政策，努力挖掘新的业绩增长 点，不断提升公司运营效率和资金使用效率，实现公司健康、稳步和可持续发展。\\r\\n2、2016年房地产市场区域分化仍将延续，企业的激烈竞争成为常态，公司唯有继续以坚守品质、创新产品来应对市场 的变化。公司一方面通过加强融资管理、拓宽融资渠道等方式获取外部融资；另一方面，加强全面预算管理，合理安排资金 的使用，增强资金使用的计划性，提高资金使用效率；同时，在公司内部盘活存量资产，提高资产周转速度，提高资产运营 效率和效益。\\r\\n\\r\\n十、接待调研、沟通、采访等活动情况\\r\\n\\r\\n1、报告期内接待调研、沟通、采访等活动登记表\\r\\n\\r\\n√ 适用 □ 不适用'"
      ]
     },
     "execution_count": 7,
     "metadata": {},
     "output_type": "execute_result"
    }
   ],
   "source": [
    "mda.query(\"charnum < 3000\").bus_da.tolist()[0]"
   ]
  },
  {
   "cell_type": "code",
   "execution_count": 8,
   "metadata": {
    "inputHidden": false,
    "outputHidden": true
   },
   "outputs": [
    {
     "data": {
      "text/plain": [
       "['data/tfidf.pkl']"
      ]
     },
     "execution_count": 8,
     "metadata": {},
     "output_type": "execute_result"
    }
   ],
   "source": [
    "joblib.dump(mda.values, 'data/tfidf.pkl') "
   ]
  },
  {
   "cell_type": "code",
   "execution_count": 9,
   "metadata": {
    "inputHidden": false,
    "outputHidden": false
   },
   "outputs": [
    {
     "data": {
      "text/plain": [
       "array([[4, '国农科技', 2013, Timestamp('2013-12-31 00:00:00')],\n",
       "       [4, '国农科技', 2014, Timestamp('2014-12-31 00:00:00')],\n",
       "       [4, '国农科技', 2015, Timestamp('2015-12-31 00:00:00')]], dtype=object)"
      ]
     },
     "execution_count": 9,
     "metadata": {},
     "output_type": "execute_result"
    }
   ],
   "source": [
    "mda_load = joblib.load('data/tfidf.pkl') \n",
    "mda_load[:3, :4]"
   ]
  },
  {
   "cell_type": "code",
   "execution_count": 10,
   "metadata": {
    "inputHidden": false,
    "outputHidden": false
   },
   "outputs": [],
   "source": [
    "mda.to_excel(\"data/tfidf.xlsx\", index=False)"
   ]
  },
  {
   "cell_type": "markdown",
   "metadata": {},
   "source": [
    "# read write sqlite3"
   ]
  },
  {
   "cell_type": "code",
   "execution_count": 2,
   "metadata": {
    "inputHidden": false,
    "outputHidden": false
   },
   "outputs": [],
   "source": [
    "import pandas as pd\n",
    "import sqlite3\n",
    "conn = sqlite3.connect(\"data/mda_sample.db\")"
   ]
  },
  {
   "cell_type": "code",
   "execution_count": 12,
   "metadata": {
    "inputHidden": false,
    "outputHidden": false
   },
   "outputs": [],
   "source": [
    "mda.to_sql(\"mda\", conn, if_exists=\"replace\")"
   ]
  },
  {
   "cell_type": "code",
   "execution_count": 16,
   "metadata": {
    "inputHidden": false,
    "outputHidden": false
   },
   "outputs": [
    {
     "data": {
      "text/html": [
       "<div>\n",
       "<style scoped>\n",
       "    .dataframe tbody tr th:only-of-type {\n",
       "        vertical-align: middle;\n",
       "    }\n",
       "\n",
       "    .dataframe tbody tr th {\n",
       "        vertical-align: top;\n",
       "    }\n",
       "\n",
       "    .dataframe thead th {\n",
       "        text-align: right;\n",
       "    }\n",
       "</style>\n",
       "<table border=\"1\" class=\"dataframe\">\n",
       "  <thead>\n",
       "    <tr style=\"text-align: right;\">\n",
       "      <th></th>\n",
       "      <th>index</th>\n",
       "      <th>scode</th>\n",
       "      <th>coname</th>\n",
       "      <th>year</th>\n",
       "      <th>anatime</th>\n",
       "      <th>bus_da</th>\n",
       "      <th>posvocnum</th>\n",
       "      <th>negvocnum</th>\n",
       "      <th>sentnum</th>\n",
       "      <th>charnum</th>\n",
       "    </tr>\n",
       "  </thead>\n",
       "  <tbody>\n",
       "    <tr>\n",
       "      <th>0</th>\n",
       "      <td>0</td>\n",
       "      <td>4</td>\n",
       "      <td>国农科技</td>\n",
       "      <td>2013</td>\n",
       "      <td>2013-12-31 00:00:00</td>\n",
       "      <td>第四节 董事会报告\\r\\n\\r\\n一、概述\\r\\n\\r\\n2013年是新一届政府的开局之年，...</td>\n",
       "      <td>183</td>\n",
       "      <td>134</td>\n",
       "      <td>64</td>\n",
       "      <td>4679</td>\n",
       "    </tr>\n",
       "    <tr>\n",
       "      <th>1</th>\n",
       "      <td>1</td>\n",
       "      <td>4</td>\n",
       "      <td>国农科技</td>\n",
       "      <td>2014</td>\n",
       "      <td>2014-12-31 00:00:00</td>\n",
       "      <td>第四节 董事会报告\\r\\n\\r\\n一、概述\\r\\n\\r\\n2014年，对医药行业来说，是机遇...</td>\n",
       "      <td>289</td>\n",
       "      <td>112</td>\n",
       "      <td>67</td>\n",
       "      <td>4964</td>\n",
       "    </tr>\n",
       "    <tr>\n",
       "      <th>2</th>\n",
       "      <td>2</td>\n",
       "      <td>4</td>\n",
       "      <td>国农科技</td>\n",
       "      <td>2015</td>\n",
       "      <td>2015-12-31 00:00:00</td>\n",
       "      <td>第四节 管理层讨论与分析\\r\\n\\r\\n一、概述\\r\\n\\r\\n2015年度公司实现主营业务...</td>\n",
       "      <td>153</td>\n",
       "      <td>77</td>\n",
       "      <td>34</td>\n",
       "      <td>2902</td>\n",
       "    </tr>\n",
       "    <tr>\n",
       "      <th>3</th>\n",
       "      <td>3</td>\n",
       "      <td>4</td>\n",
       "      <td>国农科技</td>\n",
       "      <td>2016</td>\n",
       "      <td>2016-12-31 00:00:00</td>\n",
       "      <td>第四节 经营情况讨论与分析\\r\\n\\r\\n一、概述\\r\\n\\r\\n2016年度公司实现主营业...</td>\n",
       "      <td>211</td>\n",
       "      <td>87</td>\n",
       "      <td>53</td>\n",
       "      <td>3555</td>\n",
       "    </tr>\n",
       "  </tbody>\n",
       "</table>\n",
       "</div>"
      ],
      "text/plain": [
       "   index  scode coname  year              anatime  \\\n",
       "0      0      4   国农科技  2013  2013-12-31 00:00:00   \n",
       "1      1      4   国农科技  2014  2014-12-31 00:00:00   \n",
       "2      2      4   国农科技  2015  2015-12-31 00:00:00   \n",
       "3      3      4   国农科技  2016  2016-12-31 00:00:00   \n",
       "\n",
       "                                              bus_da  posvocnum  negvocnum  \\\n",
       "0  第四节 董事会报告\\r\\n\\r\\n一、概述\\r\\n\\r\\n2013年是新一届政府的开局之年，...        183        134   \n",
       "1  第四节 董事会报告\\r\\n\\r\\n一、概述\\r\\n\\r\\n2014年，对医药行业来说，是机遇...        289        112   \n",
       "2  第四节 管理层讨论与分析\\r\\n\\r\\n一、概述\\r\\n\\r\\n2015年度公司实现主营业务...        153         77   \n",
       "3  第四节 经营情况讨论与分析\\r\\n\\r\\n一、概述\\r\\n\\r\\n2016年度公司实现主营业...        211         87   \n",
       "\n",
       "   sentnum  charnum  \n",
       "0       64     4679  \n",
       "1       67     4964  \n",
       "2       34     2902  \n",
       "3       53     3555  "
      ]
     },
     "execution_count": 16,
     "metadata": {},
     "output_type": "execute_result"
    }
   ],
   "source": [
    "mda_db = pd.read_sql_query(\"select * from mda limit 4;\", conn)\n",
    "mda_db"
   ]
  },
  {
   "cell_type": "code",
   "execution_count": 17,
   "metadata": {
    "inputHidden": false,
    "outputHidden": false
   },
   "outputs": [
    {
     "data": {
      "text/html": [
       "<div>\n",
       "<style scoped>\n",
       "    .dataframe tbody tr th:only-of-type {\n",
       "        vertical-align: middle;\n",
       "    }\n",
       "\n",
       "    .dataframe tbody tr th {\n",
       "        vertical-align: top;\n",
       "    }\n",
       "\n",
       "    .dataframe thead th {\n",
       "        text-align: right;\n",
       "    }\n",
       "</style>\n",
       "<table border=\"1\" class=\"dataframe\">\n",
       "  <thead>\n",
       "    <tr style=\"text-align: right;\">\n",
       "      <th></th>\n",
       "      <th>index</th>\n",
       "      <th>scode</th>\n",
       "      <th>coname</th>\n",
       "      <th>year</th>\n",
       "      <th>anatime</th>\n",
       "      <th>bus_da</th>\n",
       "      <th>posvocnum</th>\n",
       "      <th>negvocnum</th>\n",
       "      <th>sentnum</th>\n",
       "      <th>charnum</th>\n",
       "    </tr>\n",
       "  </thead>\n",
       "  <tbody>\n",
       "    <tr>\n",
       "      <th>0</th>\n",
       "      <td>232</td>\n",
       "      <td>600421</td>\n",
       "      <td>ST仰帆</td>\n",
       "      <td>2015</td>\n",
       "      <td>2015-12-31 00:00:00</td>\n",
       "      <td>第四节 管理层讨论与分析\\r\\n\\r\\n一、管理层讨论与分析\\r\\n\\r\\n2015 年度，...</td>\n",
       "      <td>28</td>\n",
       "      <td>41</td>\n",
       "      <td>11</td>\n",
       "      <td>848</td>\n",
       "    </tr>\n",
       "    <tr>\n",
       "      <th>1</th>\n",
       "      <td>555</td>\n",
       "      <td>600179</td>\n",
       "      <td>安通控股</td>\n",
       "      <td>2015</td>\n",
       "      <td>2015-12-31 00:00:00</td>\n",
       "      <td>第四节 管理层讨论与分析\\r\\n\\r\\n一、管理层讨论与分析 报告期内，国内经济发展增速明显...</td>\n",
       "      <td>30</td>\n",
       "      <td>35</td>\n",
       "      <td>12</td>\n",
       "      <td>767</td>\n",
       "    </tr>\n",
       "  </tbody>\n",
       "</table>\n",
       "</div>"
      ],
      "text/plain": [
       "   index   scode coname  year              anatime  \\\n",
       "0    232  600421   ST仰帆  2015  2015-12-31 00:00:00   \n",
       "1    555  600179   安通控股  2015  2015-12-31 00:00:00   \n",
       "\n",
       "                                              bus_da  posvocnum  negvocnum  \\\n",
       "0  第四节 管理层讨论与分析\\r\\n\\r\\n一、管理层讨论与分析\\r\\n\\r\\n2015 年度，...         28         41   \n",
       "1  第四节 管理层讨论与分析\\r\\n\\r\\n一、管理层讨论与分析 报告期内，国内经济发展增速明显...         30         35   \n",
       "\n",
       "   sentnum  charnum  \n",
       "0       11      848  \n",
       "1       12      767  "
      ]
     },
     "execution_count": 17,
     "metadata": {},
     "output_type": "execute_result"
    }
   ],
   "source": [
    "pd.read_sql_query(\"select * from mda where charnum < 1000;\", conn)"
   ]
  },
  {
   "cell_type": "markdown",
   "metadata": {},
   "source": [
    "## save big files to sqlite3"
   ]
  },
  {
   "cell_type": "code",
   "execution_count": 19,
   "metadata": {
    "inputHidden": false,
    "outputHidden": false
   },
   "outputs": [],
   "source": [
    "pdfpath = 'C:/Users/sean/nuts/TEXTasData/00-Text-in-AF\\\\share\\\\data\\\\'\n",
    "\n",
    "filelist = [os.path.join(root, name)\n",
    "            for root, dirs, files in os.walk(pdfpath)\n",
    "            for name in files if name.lower().endswith(\".xlsx\")]"
   ]
  },
  {
   "cell_type": "code",
   "execution_count": 24,
   "metadata": {
    "inputHidden": false,
    "outputHidden": false
   },
   "outputs": [
    {
     "data": {
      "text/plain": [
       "['C:/Users/sean/nuts/TEXTasData/00-Text-in-AF\\\\share\\\\data\\\\cn_sample_mda copy 2.xlsx',\n",
       " 'C:/Users/sean/nuts/TEXTasData/00-Text-in-AF\\\\share\\\\data\\\\cn_sample_mda copy 3.xlsx',\n",
       " 'C:/Users/sean/nuts/TEXTasData/00-Text-in-AF\\\\share\\\\data\\\\cn_sample_mda copy 4.xlsx',\n",
       " 'C:/Users/sean/nuts/TEXTasData/00-Text-in-AF\\\\share\\\\data\\\\cn_sample_mda copy 5.xlsx',\n",
       " 'C:/Users/sean/nuts/TEXTasData/00-Text-in-AF\\\\share\\\\data\\\\cn_sample_mda copy.xlsx',\n",
       " 'C:/Users/sean/nuts/TEXTasData/00-Text-in-AF\\\\share\\\\data\\\\cn_sample_mda.xlsx']"
      ]
     },
     "execution_count": 24,
     "metadata": {},
     "output_type": "execute_result"
    }
   ],
   "source": [
    "filelist"
   ]
  },
  {
   "cell_type": "code",
   "execution_count": 22,
   "metadata": {
    "inputHidden": false,
    "outputHidden": false
   },
   "outputs": [],
   "source": [
    "import pandas as pd\n",
    "import sqlite3\n",
    "conn = sqlite3.connect(\"data/mda_sample.db\")"
   ]
  },
  {
   "cell_type": "code",
   "execution_count": 26,
   "metadata": {
    "inputHidden": false,
    "outputHidden": false
   },
   "outputs": [
    {
     "name": "stdout",
     "output_type": "stream",
     "text": [
      "0\n",
      "1\n",
      "2\n",
      "3\n",
      "4\n",
      "5\n"
     ]
    }
   ],
   "source": [
    "for i, x in enumerate(filelist):\n",
    "    mda = pd.read_excel(x)\n",
    "    mda.to_sql(\"mda_3\", conn, if_exists=\"append\")\n",
    "    print(i)"
   ]
  },
  {
   "cell_type": "markdown",
   "metadata": {},
   "source": [
    "## deal with big data by chunks"
   ]
  },
  {
   "cell_type": "code",
   "execution_count": 19,
   "metadata": {
    "inputHidden": false,
    "outputHidden": false
   },
   "outputs": [],
   "source": [
    "dfchunks = pd.read_sql_query(\"select * from mda;\", conn, chunksize= 200)"
   ]
  },
  {
   "cell_type": "code",
   "execution_count": 20,
   "metadata": {
    "inputHidden": false,
    "outputHidden": false
   },
   "outputs": [
    {
     "data": {
      "text/plain": [
       "<generator object SQLiteDatabase._query_iterator at 0x11f417e58>"
      ]
     },
     "execution_count": 20,
     "metadata": {},
     "output_type": "execute_result"
    }
   ],
   "source": [
    "dfchunks"
   ]
  },
  {
   "cell_type": "code",
   "execution_count": 21,
   "metadata": {
    "inputHidden": false,
    "outputHidden": false
   },
   "outputs": [
    {
     "name": "stdout",
     "output_type": "stream",
     "text": [
      "0 (200, 9)\n",
      "1 (200, 9)\n",
      "2 (200, 9)\n",
      "3 (200, 9)\n",
      "4 (200, 9)\n",
      "5 (200, 9)\n",
      "6 (160, 9)\n"
     ]
    }
   ],
   "source": [
    "for i, chunk in enumerate(dfchunks):\n",
    "  chunk = chunk\n",
    "  # do something \n",
    "  chunk[\"year\"] = chunk[\"year\"] - 2000\n",
    "  # save your results back to db\n",
    "  print(i, chunk.shape)"
   ]
  },
  {
   "cell_type": "code",
   "execution_count": 11,
   "metadata": {
    "inputHidden": false,
    "outputHidden": false
   },
   "outputs": [
    {
     "data": {
      "text/plain": [
       "(60, 9)"
      ]
     },
     "execution_count": 11,
     "metadata": {},
     "output_type": "execute_result"
    }
   ],
   "source": [
    "chunk.shape"
   ]
  },
  {
   "cell_type": "code",
   "execution_count": 12,
   "metadata": {
    "inputHidden": false,
    "outputHidden": false
   },
   "outputs": [
    {
     "data": {
      "text/html": [
       "<div>\n",
       "<style scoped>\n",
       "    .dataframe tbody tr th:only-of-type {\n",
       "        vertical-align: middle;\n",
       "    }\n",
       "\n",
       "    .dataframe tbody tr th {\n",
       "        vertical-align: top;\n",
       "    }\n",
       "\n",
       "    .dataframe thead th {\n",
       "        text-align: right;\n",
       "    }\n",
       "</style>\n",
       "<table border=\"1\" class=\"dataframe\">\n",
       "  <thead>\n",
       "    <tr style=\"text-align: right;\">\n",
       "      <th></th>\n",
       "      <th>scode</th>\n",
       "      <th>coname</th>\n",
       "      <th>year</th>\n",
       "      <th>anatime</th>\n",
       "      <th>bus_da</th>\n",
       "      <th>posvocnum</th>\n",
       "      <th>negvocnum</th>\n",
       "      <th>sentnum</th>\n",
       "      <th>charnum</th>\n",
       "    </tr>\n",
       "  </thead>\n",
       "  <tbody>\n",
       "    <tr>\n",
       "      <th>0</th>\n",
       "      <td>600761</td>\n",
       "      <td>安徽合力</td>\n",
       "      <td>2015</td>\n",
       "      <td>2015-12-31 00:00:00</td>\n",
       "      <td>第四节 管理层讨论与分析\\r\\n\\r\\n一、管理层讨论与分析\\r\\n\\r\\n2015 年，从...</td>\n",
       "      <td>222</td>\n",
       "      <td>103</td>\n",
       "      <td>70</td>\n",
       "      <td>4208</td>\n",
       "    </tr>\n",
       "    <tr>\n",
       "      <th>1</th>\n",
       "      <td>600761</td>\n",
       "      <td>安徽合力</td>\n",
       "      <td>2016</td>\n",
       "      <td>2016-12-31 00:00:00</td>\n",
       "      <td>第四节 经营情况讨论与分析\\r\\n\\r\\n一、经营情况讨论与分析\\r\\n\\r\\n2016 年...</td>\n",
       "      <td>226</td>\n",
       "      <td>99</td>\n",
       "      <td>69</td>\n",
       "      <td>3974</td>\n",
       "    </tr>\n",
       "    <tr>\n",
       "      <th>2</th>\n",
       "      <td>600761</td>\n",
       "      <td>安徽合力</td>\n",
       "      <td>2017</td>\n",
       "      <td>2017-12-31 00:00:00</td>\n",
       "      <td>一、经营情况讨论与分析\\r\\n2017 年，国内经济持续向好，主要经济指标好于预期，工业增速...</td>\n",
       "      <td>299</td>\n",
       "      <td>98</td>\n",
       "      <td>88</td>\n",
       "      <td>4816</td>\n",
       "    </tr>\n",
       "    <tr>\n",
       "      <th>3</th>\n",
       "      <td>600766</td>\n",
       "      <td>园城黄金</td>\n",
       "      <td>2015</td>\n",
       "      <td>2015-12-31 00:00:00</td>\n",
       "      <td>第四节 管理层讨论与分析\\r\\n一、管理层讨论与分析 报告期内，公司淘汰了一批效率低、品位差...</td>\n",
       "      <td>86</td>\n",
       "      <td>60</td>\n",
       "      <td>28</td>\n",
       "      <td>1569</td>\n",
       "    </tr>\n",
       "    <tr>\n",
       "      <th>4</th>\n",
       "      <td>600766</td>\n",
       "      <td>园城黄金</td>\n",
       "      <td>2016</td>\n",
       "      <td>2016-12-31 00:00:00</td>\n",
       "      <td>第四节 经营情况讨论与分析\\r\\n\\r\\n一、经营情况讨论与分析\\r\\n公司主要从事黄金的开...</td>\n",
       "      <td>105</td>\n",
       "      <td>70</td>\n",
       "      <td>37</td>\n",
       "      <td>2088</td>\n",
       "    </tr>\n",
       "  </tbody>\n",
       "</table>\n",
       "</div>"
      ],
      "text/plain": [
       "    scode coname  year              anatime  \\\n",
       "0  600761   安徽合力  2015  2015-12-31 00:00:00   \n",
       "1  600761   安徽合力  2016  2016-12-31 00:00:00   \n",
       "2  600761   安徽合力  2017  2017-12-31 00:00:00   \n",
       "3  600766   园城黄金  2015  2015-12-31 00:00:00   \n",
       "4  600766   园城黄金  2016  2016-12-31 00:00:00   \n",
       "\n",
       "                                              bus_da  posvocnum  negvocnum  \\\n",
       "0  第四节 管理层讨论与分析\\r\\n\\r\\n一、管理层讨论与分析\\r\\n\\r\\n2015 年，从...        222        103   \n",
       "1  第四节 经营情况讨论与分析\\r\\n\\r\\n一、经营情况讨论与分析\\r\\n\\r\\n2016 年...        226         99   \n",
       "2  一、经营情况讨论与分析\\r\\n2017 年，国内经济持续向好，主要经济指标好于预期，工业增速...        299         98   \n",
       "3  第四节 管理层讨论与分析\\r\\n一、管理层讨论与分析 报告期内，公司淘汰了一批效率低、品位差...         86         60   \n",
       "4  第四节 经营情况讨论与分析\\r\\n\\r\\n一、经营情况讨论与分析\\r\\n公司主要从事黄金的开...        105         70   \n",
       "\n",
       "   sentnum  charnum  \n",
       "0       70     4208  \n",
       "1       69     3974  \n",
       "2       88     4816  \n",
       "3       28     1569  \n",
       "4       37     2088  "
      ]
     },
     "execution_count": 12,
     "metadata": {},
     "output_type": "execute_result"
    }
   ],
   "source": [
    "chunk.head()"
   ]
  },
  {
   "cell_type": "markdown",
   "metadata": {
    "inputHidden": false,
    "outputHidden": false
   },
   "source": [
    "## read multiple excel files"
   ]
  },
  {
   "cell_type": "code",
   "execution_count": 7,
   "metadata": {
    "inputHidden": false,
    "outputHidden": false
   },
   "outputs": [],
   "source": [
    "pdfpath = 'C:/Users/sean/nuts/TEXTasData/00-Text-in-AF\\\\share\\\\data\\\\'\n",
    "\n",
    "filelist = [os.path.join(root, name)\n",
    "            for root, dirs, files in os.walk(pdfpath)\n",
    "            for name in files if name.lower().endswith(\".xlsx\")]"
   ]
  },
  {
   "cell_type": "code",
   "execution_count": 8,
   "metadata": {
    "inputHidden": false,
    "outputHidden": false
   },
   "outputs": [
    {
     "data": {
      "text/plain": [
       "['C:/Users/sean/nuts/TEXTasData/00-Text-in-AF\\\\share\\\\data\\\\cn_sample_mda copy 2.xlsx',\n",
       " 'C:/Users/sean/nuts/TEXTasData/00-Text-in-AF\\\\share\\\\data\\\\cn_sample_mda copy 3.xlsx',\n",
       " 'C:/Users/sean/nuts/TEXTasData/00-Text-in-AF\\\\share\\\\data\\\\cn_sample_mda copy 4.xlsx',\n",
       " 'C:/Users/sean/nuts/TEXTasData/00-Text-in-AF\\\\share\\\\data\\\\cn_sample_mda copy 5.xlsx',\n",
       " 'C:/Users/sean/nuts/TEXTasData/00-Text-in-AF\\\\share\\\\data\\\\cn_sample_mda copy.xlsx',\n",
       " 'C:/Users/sean/nuts/TEXTasData/00-Text-in-AF\\\\share\\\\data\\\\cn_sample_mda.xlsx']"
      ]
     },
     "execution_count": 8,
     "metadata": {},
     "output_type": "execute_result"
    }
   ],
   "source": [
    "filelist"
   ]
  },
  {
   "cell_type": "code",
   "execution_count": 9,
   "metadata": {
    "inputHidden": false,
    "outputHidden": false
   },
   "outputs": [],
   "source": [
    "datadf = pd.concat([pd.read_excel(x) for x in filelist])"
   ]
  },
  {
   "cell_type": "code",
   "execution_count": 10,
   "metadata": {
    "inputHidden": false,
    "outputHidden": false
   },
   "outputs": [
    {
     "data": {
      "text/plain": [
       "(8160, 9)"
      ]
     },
     "execution_count": 10,
     "metadata": {},
     "output_type": "execute_result"
    }
   ],
   "source": [
    "datadf.shape"
   ]
  },
  {
   "cell_type": "code",
   "execution_count": 12,
   "metadata": {
    "inputHidden": false,
    "outputHidden": false
   },
   "outputs": [
    {
     "data": {
      "text/plain": [
       "(1360, 9)"
      ]
     },
     "execution_count": 12,
     "metadata": {},
     "output_type": "execute_result"
    }
   ],
   "source": [
    "datadf.drop_duplicates().shape"
   ]
  },
  {
   "cell_type": "code",
   "execution_count": null,
   "metadata": {
    "inputHidden": false,
    "outputHidden": false
   },
   "outputs": [],
   "source": []
  },
  {
   "cell_type": "markdown",
   "metadata": {},
   "source": [
    "## move and copy files"
   ]
  },
  {
   "cell_type": "code",
   "execution_count": 17,
   "metadata": {
    "inputHidden": false,
    "outputHidden": false
   },
   "outputs": [],
   "source": [
    "import shutil"
   ]
  },
  {
   "cell_type": "code",
   "execution_count": 14,
   "metadata": {
    "inputHidden": false,
    "outputHidden": false
   },
   "outputs": [],
   "source": [
    "for x in filelist:\n",
    "    shutil.move(x, \"C:/users/sean/good/\")"
   ]
  },
  {
   "cell_type": "code",
   "execution_count": 16,
   "metadata": {
    "inputHidden": false,
    "outputHidden": false
   },
   "outputs": [
    {
     "data": {
      "text/plain": [
       "['C:/Users/sean/nuts/TEXTasData/00-Text-in-AF\\\\share\\\\data\\\\cn_sample_mda copy 2.xlsx',\n",
       " 'C:/Users/sean/nuts/TEXTasData/00-Text-in-AF\\\\share\\\\data\\\\cn_sample_mda copy 3.xlsx',\n",
       " 'C:/Users/sean/nuts/TEXTasData/00-Text-in-AF\\\\share\\\\data\\\\cn_sample_mda copy 4.xlsx',\n",
       " 'C:/Users/sean/nuts/TEXTasData/00-Text-in-AF\\\\share\\\\data\\\\cn_sample_mda copy 5.xlsx',\n",
       " 'C:/Users/sean/nuts/TEXTasData/00-Text-in-AF\\\\share\\\\data\\\\cn_sample_mda copy.xlsx']"
      ]
     },
     "execution_count": 16,
     "metadata": {},
     "output_type": "execute_result"
    }
   ],
   "source": [
    "filelist = [x for x in filelist if \"copy\" in x]\n",
    "filelist"
   ]
  },
  {
   "cell_type": "code",
   "execution_count": 18,
   "metadata": {
    "inputHidden": false,
    "outputHidden": true
   },
   "outputs": [
    {
     "ename": "Error",
     "evalue": "Destination path 'C:/users/sean/good/cn_sample_mda copy 2.xlsx' already exists",
     "output_type": "error",
     "traceback": [
      "\u001b[1;31m---------------------------------------------------------------------------\u001b[0m",
      "\u001b[1;31mError\u001b[0m                                     Traceback (most recent call last)",
      "\u001b[1;32m<ipython-input-18-a16931f9db1a>\u001b[0m in \u001b[0;36m<module>\u001b[1;34m()\u001b[0m\n\u001b[0;32m      1\u001b[0m \u001b[1;32mfor\u001b[0m \u001b[0mx\u001b[0m \u001b[1;32min\u001b[0m \u001b[0mfilelist\u001b[0m\u001b[1;33m:\u001b[0m\u001b[1;33m\u001b[0m\u001b[0m\n\u001b[1;32m----> 2\u001b[1;33m     \u001b[0mmove\u001b[0m\u001b[1;33m(\u001b[0m\u001b[0mx\u001b[0m\u001b[1;33m,\u001b[0m \u001b[1;34m\"C:/users/sean/good/\"\u001b[0m\u001b[1;33m)\u001b[0m\u001b[1;33m\u001b[0m\u001b[0m\n\u001b[0m",
      "\u001b[1;32m~\\Anaconda3\\lib\\shutil.py\u001b[0m in \u001b[0;36mmove\u001b[1;34m(src, dst, copy_function)\u001b[0m\n\u001b[0;32m    540\u001b[0m         \u001b[0mreal_dst\u001b[0m \u001b[1;33m=\u001b[0m \u001b[0mos\u001b[0m\u001b[1;33m.\u001b[0m\u001b[0mpath\u001b[0m\u001b[1;33m.\u001b[0m\u001b[0mjoin\u001b[0m\u001b[1;33m(\u001b[0m\u001b[0mdst\u001b[0m\u001b[1;33m,\u001b[0m \u001b[0m_basename\u001b[0m\u001b[1;33m(\u001b[0m\u001b[0msrc\u001b[0m\u001b[1;33m)\u001b[0m\u001b[1;33m)\u001b[0m\u001b[1;33m\u001b[0m\u001b[0m\n\u001b[0;32m    541\u001b[0m         \u001b[1;32mif\u001b[0m \u001b[0mos\u001b[0m\u001b[1;33m.\u001b[0m\u001b[0mpath\u001b[0m\u001b[1;33m.\u001b[0m\u001b[0mexists\u001b[0m\u001b[1;33m(\u001b[0m\u001b[0mreal_dst\u001b[0m\u001b[1;33m)\u001b[0m\u001b[1;33m:\u001b[0m\u001b[1;33m\u001b[0m\u001b[0m\n\u001b[1;32m--> 542\u001b[1;33m             \u001b[1;32mraise\u001b[0m \u001b[0mError\u001b[0m\u001b[1;33m(\u001b[0m\u001b[1;34m\"Destination path '%s' already exists\"\u001b[0m \u001b[1;33m%\u001b[0m \u001b[0mreal_dst\u001b[0m\u001b[1;33m)\u001b[0m\u001b[1;33m\u001b[0m\u001b[0m\n\u001b[0m\u001b[0;32m    543\u001b[0m     \u001b[1;32mtry\u001b[0m\u001b[1;33m:\u001b[0m\u001b[1;33m\u001b[0m\u001b[0m\n\u001b[0;32m    544\u001b[0m         \u001b[0mos\u001b[0m\u001b[1;33m.\u001b[0m\u001b[0mrename\u001b[0m\u001b[1;33m(\u001b[0m\u001b[0msrc\u001b[0m\u001b[1;33m,\u001b[0m \u001b[0mreal_dst\u001b[0m\u001b[1;33m)\u001b[0m\u001b[1;33m\u001b[0m\u001b[0m\n",
      "\u001b[1;31mError\u001b[0m: Destination path 'C:/users/sean/good/cn_sample_mda copy 2.xlsx' already exists"
     ]
    }
   ],
   "source": [
    "for x in filelist:\n",
    "    move(x, \"C:/users/sean/good/\")"
   ]
  },
  {
   "cell_type": "code",
   "execution_count": 13,
   "metadata": {},
   "outputs": [],
   "source": [
    "\n",
    "def movefile(row):\n",
    "    tohtml = os.path.join(\"F:\\\\k10\\\\k\" + row[\"DateFiled\"][:4],\n",
    "         os.path.basename(row[\"filestxt\"]))\n",
    "    if not os.path.exists(tohtml):\n",
    "        shutil.move(row[\"filestxt\"], tohtml)"
   ]
  },
  {
   "cell_type": "code",
   "execution_count": null,
   "metadata": {
    "inputHidden": false,
    "outputHidden": false
   },
   "outputs": [],
   "source": [
    "def movefile(row):\n",
    "    tohtml = os.path.join(\"F:\\\\k10\\\\k\" + row[\"DateFiled\"][:4],\n",
    "         os.path.basename(row[\"filestxt\"]))\n",
    "    if not os.path.exists(tohtml):\n",
    "        shutil.copyfile(row[\"filestxt\"], tohtml)"
   ]
  }
 ],
 "metadata": {
  "kernel_info": {
   "name": "python3"
  },
  "kernelspec": {
   "display_name": "Python 3",
   "language": "python",
   "name": "python3"
  },
  "language_info": {
   "codemirror_mode": {
    "name": "ipython",
    "version": 3
   },
   "file_extension": ".py",
   "mimetype": "text/x-python",
   "name": "python",
   "nbconvert_exporter": "python",
   "pygments_lexer": "ipython3",
   "version": "3.7.1"
  },
  "latex_envs": {
   "LaTeX_envs_menu_present": true,
   "autoclose": false,
   "autocomplete": true,
   "bibliofile": "biblio.bib",
   "cite_by": "apalike",
   "current_citInitial": 1,
   "eqLabelWithNumbers": true,
   "eqNumInitial": 1,
   "hotkeys": {
    "equation": "Ctrl-E",
    "itemize": "Ctrl-I"
   },
   "labels_anchors": false,
   "latex_user_defs": false,
   "report_style_numbering": false,
   "user_envs_cfg": false
  },
  "nteract": {
   "version": "0.12.2"
  },
  "toc": {
   "base_numbering": 1,
   "nav_menu": {},
   "number_sections": true,
   "sideBar": true,
   "skip_h1_title": false,
   "title_cell": "Table of Contents",
   "title_sidebar": "Contents",
   "toc_cell": false,
   "toc_position": {},
   "toc_section_display": true,
   "toc_window_display": false
  },
  "varInspector": {
   "cols": {
    "lenName": 16,
    "lenType": 16,
    "lenVar": 40
   },
   "kernels_config": {
    "python": {
     "delete_cmd_postfix": "",
     "delete_cmd_prefix": "del ",
     "library": "var_list.py",
     "varRefreshCmd": "print(var_dic_list())"
    },
    "r": {
     "delete_cmd_postfix": ") ",
     "delete_cmd_prefix": "rm(",
     "library": "var_list.r",
     "varRefreshCmd": "cat(var_dic_list()) "
    }
   },
   "types_to_exclude": [
    "module",
    "function",
    "builtin_function_or_method",
    "instance",
    "_Feature"
   ],
   "window_display": false
  }
 },
 "nbformat": 4,
 "nbformat_minor": 1
}
